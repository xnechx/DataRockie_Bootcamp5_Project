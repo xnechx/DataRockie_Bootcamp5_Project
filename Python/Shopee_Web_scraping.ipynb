{
 "cells": [
  {
   "cell_type": "code",
   "execution_count": 1,
   "id": "7535025b",
   "metadata": {
    "scrolled": true
   },
   "outputs": [
    {
     "name": "stdout",
     "output_type": "stream",
     "text": [
      "Requirement already satisfied: selenium in c:\\users\\tongw\\anaconda3\\lib\\site-packages (4.7.2)\n",
      "Requirement already satisfied: urllib3[socks]~=1.26 in c:\\users\\tongw\\anaconda3\\lib\\site-packages (from selenium) (1.26.11)\n",
      "Requirement already satisfied: certifi>=2021.10.8 in c:\\users\\tongw\\anaconda3\\lib\\site-packages (from selenium) (2022.9.14)\n",
      "Requirement already satisfied: trio-websocket~=0.9 in c:\\users\\tongw\\anaconda3\\lib\\site-packages (from selenium) (0.9.2)\n",
      "Requirement already satisfied: trio~=0.17 in c:\\users\\tongw\\anaconda3\\lib\\site-packages (from selenium) (0.22.0)\n",
      "Requirement already satisfied: sniffio in c:\\users\\tongw\\anaconda3\\lib\\site-packages (from trio~=0.17->selenium) (1.2.0)\n",
      "Requirement already satisfied: exceptiongroup>=1.0.0rc9 in c:\\users\\tongw\\anaconda3\\lib\\site-packages (from trio~=0.17->selenium) (1.0.4)\n",
      "Requirement already satisfied: cffi>=1.14 in c:\\users\\tongw\\anaconda3\\lib\\site-packages (from trio~=0.17->selenium) (1.15.1)\n",
      "Requirement already satisfied: async-generator>=1.9 in c:\\users\\tongw\\anaconda3\\lib\\site-packages (from trio~=0.17->selenium) (1.10)\n",
      "Requirement already satisfied: idna in c:\\users\\tongw\\anaconda3\\lib\\site-packages (from trio~=0.17->selenium) (3.3)\n",
      "Requirement already satisfied: attrs>=19.2.0 in c:\\users\\tongw\\anaconda3\\lib\\site-packages (from trio~=0.17->selenium) (21.4.0)\n",
      "Requirement already satisfied: outcome in c:\\users\\tongw\\anaconda3\\lib\\site-packages (from trio~=0.17->selenium) (1.2.0)\n",
      "Requirement already satisfied: sortedcontainers in c:\\users\\tongw\\anaconda3\\lib\\site-packages (from trio~=0.17->selenium) (2.4.0)\n",
      "Requirement already satisfied: wsproto>=0.14 in c:\\users\\tongw\\anaconda3\\lib\\site-packages (from trio-websocket~=0.9->selenium) (1.2.0)\n",
      "Requirement already satisfied: PySocks!=1.5.7,<2.0,>=1.5.6 in c:\\users\\tongw\\anaconda3\\lib\\site-packages (from urllib3[socks]~=1.26->selenium) (1.7.1)\n",
      "Requirement already satisfied: pycparser in c:\\users\\tongw\\anaconda3\\lib\\site-packages (from cffi>=1.14->trio~=0.17->selenium) (2.21)\n",
      "Requirement already satisfied: h11<1,>=0.9.0 in c:\\users\\tongw\\anaconda3\\lib\\site-packages (from wsproto>=0.14->trio-websocket~=0.9->selenium) (0.14.0)\n"
     ]
    }
   ],
   "source": [
    "!pip install selenium"
   ]
  },
  {
   "cell_type": "code",
   "execution_count": 2,
   "id": "9707605a",
   "metadata": {},
   "outputs": [],
   "source": [
    "from selenium import webdriver"
   ]
  },
  {
   "cell_type": "code",
   "execution_count": 74,
   "id": "6017fc77",
   "metadata": {},
   "outputs": [
    {
     "name": "stderr",
     "output_type": "stream",
     "text": [
      "C:\\Users\\tongw\\AppData\\Local\\Temp\\ipykernel_20900\\980049391.py:1: DeprecationWarning: executable_path has been deprecated, please pass in a Service object\n",
      "  driver  = webdriver.Chrome(r\"C:\\Users\\tongw\\Desktop\\Shopee Web scraping\\chromedriver_win32\\chromedriver.exe\")\n"
     ]
    }
   ],
   "source": [
    "driver  = webdriver.Chrome(r\"C:\\Users\\tongw\\Desktop\\Shopee Web scraping\\chromedriver_win32\\chromedriver.exe\")"
   ]
  },
  {
   "cell_type": "code",
   "execution_count": 75,
   "id": "7278afa1",
   "metadata": {},
   "outputs": [],
   "source": [
    "driver.get(\"https://shopee.co.th/?af_siteid=an_15131260000&af_sub_siteid=301699839-SKAM-GG-SHPLAND-&gclid=Cj0KCQiAyracBhDoARIsACGFcS4-l5L_JNTfRPQE0oav_mZIv7ElDbd7cRDRbaUtyPW5Pot5CP2a3RYaAozGEALw_wcB&pid=affiliates&utm_campaign=-&utm_content=301699839-SKAM-GG-SHPLAND-&utm_medium=affiliates&utm_source=an_15131260000\")"
   ]
  },
  {
   "cell_type": "code",
   "execution_count": 76,
   "id": "d4b77a84",
   "metadata": {},
   "outputs": [],
   "source": [
    "from selenium.webdriver.common.by import By"
   ]
  },
  {
   "cell_type": "code",
   "execution_count": 77,
   "id": "d1cf9751",
   "metadata": {},
   "outputs": [],
   "source": [
    "# copy XPATH from point of element that we gonna do something\n",
    "thai_butt = driver.find_element(By.XPATH, \"/html/body/div[2]/div[1]/div[1]/div/div[3]/div[1]/button\")"
   ]
  },
  {
   "cell_type": "code",
   "execution_count": 78,
   "id": "2216c339",
   "metadata": {},
   "outputs": [],
   "source": [
    "thai_butt.click()"
   ]
  },
  {
   "cell_type": "code",
   "execution_count": 79,
   "id": "1122d84a",
   "metadata": {},
   "outputs": [],
   "source": [
    "# find element in shadow root\n",
    "close_butt = driver.execute_script(\"return document.querySelector('shopee-banner-popup-stateful').shadowRoot.querySelector('div.shopee-popup__close-btn')\")"
   ]
  },
  {
   "cell_type": "code",
   "execution_count": 80,
   "id": "6db57d69",
   "metadata": {},
   "outputs": [],
   "source": [
    "close_butt.click()"
   ]
  },
  {
   "cell_type": "code",
   "execution_count": 81,
   "id": "c4f63729",
   "metadata": {},
   "outputs": [],
   "source": [
    "search = driver.find_element(By.XPATH, \"/html/body/div[1]/div/header/div[2]/div/div[1]/div[1]/div/form/input\")"
   ]
  },
  {
   "cell_type": "code",
   "execution_count": 82,
   "id": "c79f8784",
   "metadata": {},
   "outputs": [],
   "source": [
    "search.send_keys(\"โต๊ะปรับระดับไฟฟ้า\")"
   ]
  },
  {
   "cell_type": "code",
   "execution_count": 83,
   "id": "dc11f470",
   "metadata": {},
   "outputs": [],
   "source": [
    "from selenium.webdriver.common.keys import Keys"
   ]
  },
  {
   "cell_type": "code",
   "execution_count": 84,
   "id": "b0dbbd85",
   "metadata": {},
   "outputs": [],
   "source": [
    "search.send_keys(Keys.ENTER)"
   ]
  },
  {
   "cell_type": "code",
   "execution_count": 85,
   "id": "72ccbba7",
   "metadata": {},
   "outputs": [],
   "source": [
    "driver.execute_script(\"document.body.style.zoom = '10%' \")"
   ]
  },
  {
   "cell_type": "code",
   "execution_count": 86,
   "id": "f2a59d5c",
   "metadata": {},
   "outputs": [
    {
     "data": {
      "text/plain": [
       "str"
      ]
     },
     "execution_count": 86,
     "metadata": {},
     "output_type": "execute_result"
    }
   ],
   "source": [
    "data = driver.page_source\n",
    "type(data)"
   ]
  },
  {
   "cell_type": "code",
   "execution_count": 87,
   "id": "b329ff2c",
   "metadata": {},
   "outputs": [
    {
     "name": "stdout",
     "output_type": "stream",
     "text": [
      "Requirement already satisfied: bs4 in c:\\users\\tongw\\anaconda3\\lib\\site-packages (0.0.1)\n",
      "Requirement already satisfied: beautifulsoup4 in c:\\users\\tongw\\anaconda3\\lib\\site-packages (from bs4) (4.11.1)\n",
      "Requirement already satisfied: soupsieve>1.2 in c:\\users\\tongw\\anaconda3\\lib\\site-packages (from beautifulsoup4->bs4) (2.3.1)\n"
     ]
    }
   ],
   "source": [
    "!pip install bs4"
   ]
  },
  {
   "cell_type": "code",
   "execution_count": 88,
   "id": "0c4a9862",
   "metadata": {},
   "outputs": [],
   "source": [
    "import bs4"
   ]
  },
  {
   "cell_type": "code",
   "execution_count": 89,
   "id": "4e8b5235",
   "metadata": {},
   "outputs": [],
   "source": [
    "soup = bs4.BeautifulSoup(data)"
   ]
  },
  {
   "cell_type": "code",
   "execution_count": 90,
   "id": "b2d96713",
   "metadata": {},
   "outputs": [
    {
     "data": {
      "text/plain": [
       "bs4.BeautifulSoup"
      ]
     },
     "execution_count": 90,
     "metadata": {},
     "output_type": "execute_result"
    }
   ],
   "source": [
    "type(soup)"
   ]
  },
  {
   "cell_type": "code",
   "execution_count": 91,
   "id": "fdbc335e",
   "metadata": {},
   "outputs": [],
   "source": [
    "# (\"tag\", {\"class\": \"class name\"})\n",
    "all_product = soup.find_all(\"div\", {\"class\": \"ie3A+n bM+7UW Cve6sh\"})"
   ]
  },
  {
   "cell_type": "code",
   "execution_count": 110,
   "id": "dcf7f32f",
   "metadata": {
    "scrolled": true
   },
   "outputs": [
    {
     "data": {
      "text/plain": [
       "60"
      ]
     },
     "execution_count": 110,
     "metadata": {},
     "output_type": "execute_result"
    }
   ],
   "source": [
    "all_product_list = []\n",
    "for product in all_product:\n",
    "    all_product_list.append(product.text)\n",
    "len(all_product_list)"
   ]
  },
  {
   "cell_type": "code",
   "execution_count": 101,
   "id": "f0e72e1b",
   "metadata": {},
   "outputs": [],
   "source": [
    "all_price = soup.find_all(\"div\", {\"class\":\"vioxXd rVLWG6\"})"
   ]
  },
  {
   "cell_type": "code",
   "execution_count": 120,
   "id": "9d42e19d",
   "metadata": {
    "scrolled": true
   },
   "outputs": [
    {
     "data": {
      "text/plain": [
       "['฿12,999 - ฿17,999',\n",
       " '฿13,850',\n",
       " '฿9,999 - ฿11,999',\n",
       " '฿13,100',\n",
       " '฿5,990 - ฿7,390',\n",
       " '฿2,590',\n",
       " '฿4,850 - ฿5,499',\n",
       " '฿5,990 - ฿6,990',\n",
       " '฿2,590',\n",
       " '฿2,299 - ฿2,899',\n",
       " '฿8,850',\n",
       " '฿6,990',\n",
       " '฿7,390',\n",
       " '฿4,900 - ฿5,599',\n",
       " '฿3,250 - ฿3,799',\n",
       " '฿7,290',\n",
       " '฿8,990 - ฿10,790',\n",
       " '฿7,190 - ฿14,500',\n",
       " '฿5,999',\n",
       " '฿6,090 - ฿6,590',\n",
       " '฿1,880 - ฿2,980',\n",
       " '฿6,990 - ฿7,990',\n",
       " '฿14,700',\n",
       " '฿10,900 - ฿14,200',\n",
       " '฿2,990',\n",
       " '฿6,290 - ฿6,500',\n",
       " '฿2,299 - ฿2,899',\n",
       " '฿6,090 - ฿6,590',\n",
       " '฿8,990 - ฿11,990',\n",
       " '฿6,090 - ฿6,290',\n",
       " '฿3,799',\n",
       " '฿6,590',\n",
       " '฿8,990',\n",
       " '฿5,599',\n",
       " '฿9,990',\n",
       " '฿9,500',\n",
       " '฿11,875',\n",
       " '฿559 - ฿659',\n",
       " '฿8,399 - ฿9,599',\n",
       " '฿14,900',\n",
       " '฿5,599',\n",
       " '฿10,550',\n",
       " '฿3,090 - ฿3,170',\n",
       " '฿5,990',\n",
       " '฿13,900',\n",
       " '฿11,900',\n",
       " '฿13,900 - ฿18,900',\n",
       " '฿12,780',\n",
       " '฿18,999',\n",
       " '฿5,999',\n",
       " '฿9,990',\n",
       " '฿2,590 - ฿2,670',\n",
       " '฿5,990 - ฿6,990',\n",
       " '฿2,299 - ฿2,899',\n",
       " '฿2,750',\n",
       " '฿5,799 - ฿6,999',\n",
       " '฿7,148 - ฿10,628',\n",
       " '฿5,690 - ฿6,699',\n",
       " '฿9,945 - ฿10,945',\n",
       " '฿13,400']"
      ]
     },
     "execution_count": 120,
     "metadata": {},
     "output_type": "execute_result"
    }
   ],
   "source": [
    "all_price_list = []\n",
    "for price in all_price:\n",
    "    all_price_list.append(price.text)\n",
    "all_price_list"
   ]
  },
  {
   "cell_type": "code",
   "execution_count": 132,
   "id": "930bf9f1",
   "metadata": {},
   "outputs": [],
   "source": [
    "all_sales = soup.find_all(\"div\", {\"class\":\"ZnrnMl\"})"
   ]
  },
  {
   "cell_type": "code",
   "execution_count": 133,
   "id": "87257931",
   "metadata": {
    "scrolled": true
   },
   "outputs": [
    {
     "data": {
      "text/plain": [
       "60"
      ]
     },
     "execution_count": 133,
     "metadata": {},
     "output_type": "execute_result"
    }
   ],
   "source": [
    "len(all_sales)"
   ]
  },
  {
   "cell_type": "code",
   "execution_count": 134,
   "id": "2620f657",
   "metadata": {
    "scrolled": true
   },
   "outputs": [
    {
     "data": {
      "text/plain": [
       "['ขายแล้ว 1.5พัน ชิ้น',\n",
       " 'ขายแล้ว 29 ชิ้น',\n",
       " 'ขายแล้ว 161 ชิ้น',\n",
       " 'ขายแล้ว 23 ชิ้น',\n",
       " 'ขายแล้ว 19 ชิ้น',\n",
       " 'ขายแล้ว 328 ชิ้น',\n",
       " 'ขายแล้ว 212 ชิ้น',\n",
       " 'ขายแล้ว 16 ชิ้น',\n",
       " 'ขายแล้ว 343 ชิ้น',\n",
       " 'ขายแล้ว 251 ชิ้น',\n",
       " 'ขายแล้ว 181 ชิ้น',\n",
       " 'ขายแล้ว 228 ชิ้น',\n",
       " 'ขายแล้ว 157 ชิ้น',\n",
       " 'ขายแล้ว 78 ชิ้น',\n",
       " 'ขายแล้ว 556 ชิ้น',\n",
       " 'ขายแล้ว 186 ชิ้น',\n",
       " 'ขายแล้ว 94 ชิ้น',\n",
       " 'ขายแล้ว 134 ชิ้น',\n",
       " 'ขายแล้ว 4 ชิ้น',\n",
       " 'ขายแล้ว 171 ชิ้น',\n",
       " 'ขายแล้ว 657 ชิ้น',\n",
       " 'ขายแล้ว 18 ชิ้น',\n",
       " 'ขายแล้ว 29 ชิ้น',\n",
       " 'ขายแล้ว 35 ชิ้น',\n",
       " 'ขายแล้ว 45 ชิ้น',\n",
       " 'ขายแล้ว 66 ชิ้น',\n",
       " 'ขายแล้ว 592 ชิ้น',\n",
       " 'ขายแล้ว 109 ชิ้น',\n",
       " 'ขายแล้ว 46 ชิ้น',\n",
       " 'ขายแล้ว 20 ชิ้น',\n",
       " 'ขายแล้ว 145 ชิ้น',\n",
       " 'ขายแล้ว 21 ชิ้น',\n",
       " 'ขายแล้ว 21 ชิ้น',\n",
       " 'ขายแล้ว 31 ชิ้น',\n",
       " 'ขายแล้ว 3 ชิ้น',\n",
       " 'ขายแล้ว 9 ชิ้น',\n",
       " 'ขายแล้ว 213 ชิ้น',\n",
       " 'ขายแล้ว 1.9พัน ชิ้น',\n",
       " 'ขายแล้ว 2 ชิ้น',\n",
       " 'ขายแล้ว 13 ชิ้น',\n",
       " 'ขายแล้ว 4 ชิ้น',\n",
       " 'ขายแล้ว 1 ชิ้น',\n",
       " 'ขายแล้ว 1พัน ชิ้น',\n",
       " 'ขายแล้ว 32 ชิ้น',\n",
       " 'ขายแล้ว 30 ชิ้น',\n",
       " 'ขายแล้ว 11 ชิ้น',\n",
       " 'ขายแล้ว 48 ชิ้น',\n",
       " 'ขายแล้ว 17 ชิ้น',\n",
       " 'ขายแล้ว 4 ชิ้น',\n",
       " 'ขายแล้ว 3 ชิ้น',\n",
       " 'ขายแล้ว 3 ชิ้น',\n",
       " 'ขายแล้ว 953 ชิ้น',\n",
       " '',\n",
       " 'ขายแล้ว 150 ชิ้น',\n",
       " 'ขายแล้ว 144 ชิ้น',\n",
       " 'ขายแล้ว 181 ชิ้น',\n",
       " 'ขายแล้ว 3 ชิ้น',\n",
       " 'ขายแล้ว 151 ชิ้น',\n",
       " 'ขายแล้ว 60 ชิ้น',\n",
       " 'ขายแล้ว 10 ชิ้น']"
      ]
     },
     "execution_count": 134,
     "metadata": {},
     "output_type": "execute_result"
    }
   ],
   "source": [
    "all_sales_list  = []\n",
    "for sales in all_sales:\n",
    "    all_sales_list.append(sales.text)\n",
    "all_sales_list"
   ]
  },
  {
   "cell_type": "code",
   "execution_count": 135,
   "id": "8503c286",
   "metadata": {},
   "outputs": [],
   "source": [
    "all_location = soup.find_all(\"div\", {\"class\":\"zGGwiV\"})"
   ]
  },
  {
   "cell_type": "code",
   "execution_count": 156,
   "id": "85ad4831",
   "metadata": {
    "scrolled": true
   },
   "outputs": [
    {
     "data": {
      "text/plain": [
       "['จังหวัดกรุงเทพมหานคร',\n",
       " 'จังหวัดกรุงเทพมหานคร',\n",
       " 'จังหวัดกรุงเทพมหานคร',\n",
       " 'จังหวัดกรุงเทพมหานคร',\n",
       " 'จังหวัดสมุทรสาคร',\n",
       " 'จังหวัดกรุงเทพมหานคร',\n",
       " 'จังหวัดกรุงเทพมหานคร',\n",
       " 'จังหวัดสมุทรสาคร',\n",
       " 'จังหวัดกรุงเทพมหานคร',\n",
       " 'จังหวัดสมุทรปราการ',\n",
       " 'จังหวัดสมุทรสาคร',\n",
       " 'จังหวัดกรุงเทพมหานคร',\n",
       " 'จังหวัดกรุงเทพมหานคร',\n",
       " 'จังหวัดกรุงเทพมหานคร',\n",
       " 'จังหวัดกรุงเทพมหานคร',\n",
       " 'จังหวัดกรุงเทพมหานคร',\n",
       " 'จังหวัดสมุทรปราการ',\n",
       " 'จังหวัดสมุทรปราการ',\n",
       " 'จังหวัดชลบุรี',\n",
       " 'จังหวัดกรุงเทพมหานคร',\n",
       " 'จังหวัดพิจิตร',\n",
       " 'จังหวัดกรุงเทพมหานคร',\n",
       " 'จังหวัดนนทบุรี',\n",
       " 'จังหวัดชัยภูมิ',\n",
       " 'จังหวัดฉะเชิงเทรา',\n",
       " 'จังหวัดกรุงเทพมหานคร',\n",
       " 'จังหวัดสมุทรปราการ',\n",
       " 'จังหวัดกรุงเทพมหานคร',\n",
       " 'จังหวัดสมุทรปราการ',\n",
       " 'จังหวัดกรุงเทพมหานคร',\n",
       " 'จังหวัดกรุงเทพมหานคร',\n",
       " 'จังหวัดกรุงเทพมหานคร',\n",
       " 'จังหวัดกรุงเทพมหานคร',\n",
       " 'จังหวัดกรุงเทพมหานคร',\n",
       " 'จังหวัดกรุงเทพมหานคร',\n",
       " 'จังหวัดนนทบุรี',\n",
       " 'จังหวัดกรุงเทพมหานคร',\n",
       " 'จังหวัดปทุมธานี',\n",
       " 'จังหวัดสมุทรปราการ',\n",
       " 'จังหวัดกรุงเทพมหานคร',\n",
       " 'จังหวัดกรุงเทพมหานคร',\n",
       " 'จังหวัดสมุทรปราการ',\n",
       " 'จังหวัดกรุงเทพมหานคร',\n",
       " 'จังหวัดกรุงเทพมหานคร',\n",
       " 'จังหวัดปทุมธานี',\n",
       " 'จังหวัดปทุมธานี',\n",
       " 'จังหวัดขอนแก่น',\n",
       " 'จังหวัดนนทบุรี',\n",
       " 'จังหวัดกรุงเทพมหานคร',\n",
       " 'จังหวัดชลบุรี',\n",
       " 'จังหวัดกรุงเทพมหานคร',\n",
       " 'จังหวัดกรุงเทพมหานคร',\n",
       " 'จังหวัดสมุทรสาคร',\n",
       " 'จังหวัดสมุทรปราการ',\n",
       " 'จังหวัดชลบุรี',\n",
       " 'จังหวัดสมุทรสาคร',\n",
       " 'จังหวัดกรุงเทพมหานคร',\n",
       " 'จังหวัดสมุทรสาคร',\n",
       " 'จังหวัดระยอง',\n",
       " 'จังหวัดกรุงเทพมหานคร']"
      ]
     },
     "execution_count": 156,
     "metadata": {},
     "output_type": "execute_result"
    }
   ],
   "source": [
    "all_location_list = []\n",
    "for location in all_location:\n",
    "    all_location_list.append(location.text)\n",
    "all_location_list"
   ]
  },
  {
   "cell_type": "code",
   "execution_count": 157,
   "id": "a5693d5e",
   "metadata": {},
   "outputs": [],
   "source": [
    "import pandas as pd"
   ]
  },
  {
   "cell_type": "code",
   "execution_count": 187,
   "id": "99b4e7b4",
   "metadata": {
    "scrolled": true
   },
   "outputs": [
    {
     "data": {
      "text/html": [
       "<div>\n",
       "<style scoped>\n",
       "    .dataframe tbody tr th:only-of-type {\n",
       "        vertical-align: middle;\n",
       "    }\n",
       "\n",
       "    .dataframe tbody tr th {\n",
       "        vertical-align: top;\n",
       "    }\n",
       "\n",
       "    .dataframe thead th {\n",
       "        text-align: right;\n",
       "    }\n",
       "</style>\n",
       "<table border=\"1\" class=\"dataframe\">\n",
       "  <thead>\n",
       "    <tr style=\"text-align: right;\">\n",
       "      <th></th>\n",
       "      <th>product</th>\n",
       "      <th>price</th>\n",
       "      <th>sales</th>\n",
       "      <th>location_shop</th>\n",
       "    </tr>\n",
       "  </thead>\n",
       "  <tbody>\n",
       "    <tr>\n",
       "      <th>0</th>\n",
       "      <td>[รับประกัน 5] Bewell โต๊ะปรับระดับไฟฟ้า มอเตอร...</td>\n",
       "      <td>฿12,999 - ฿17,999</td>\n",
       "      <td>ขายแล้ว 1.5พัน ชิ้น</td>\n",
       "      <td>จังหวัดกรุงเทพมหานคร</td>\n",
       "    </tr>\n",
       "    <tr>\n",
       "      <th>1</th>\n",
       "      <td>[ส่งฟรีทั่วไทย] โต๊ะปรับระดับไฟฟ้า DreamDesk S...</td>\n",
       "      <td>฿13,850</td>\n",
       "      <td>ขายแล้ว 29 ชิ้น</td>\n",
       "      <td>จังหวัดกรุงเทพมหานคร</td>\n",
       "    </tr>\n",
       "    <tr>\n",
       "      <th>2</th>\n",
       "      <td>Bewell Ergonomic Desk Single Motor โต๊ะทำงาน โ...</td>\n",
       "      <td>฿9,999 - ฿11,999</td>\n",
       "      <td>ขายแล้ว 161 ชิ้น</td>\n",
       "      <td>จังหวัดกรุงเทพมหานคร</td>\n",
       "    </tr>\n",
       "    <tr>\n",
       "      <th>3</th>\n",
       "      <td>[ส่งฟรีทั่วไทย] โต๊ะปรับระดับไฟฟ้า DreamDesk S...</td>\n",
       "      <td>฿13,100</td>\n",
       "      <td>ขายแล้ว 23 ชิ้น</td>\n",
       "      <td>จังหวัดกรุงเทพมหานคร</td>\n",
       "    </tr>\n",
       "    <tr>\n",
       "      <th>4</th>\n",
       "      <td>[ทักแชทรับโค้ด] Fennix Ergonomic Desk โต๊ะปรับ...</td>\n",
       "      <td>฿5,990 - ฿7,390</td>\n",
       "      <td>ขายแล้ว 19 ชิ้น</td>\n",
       "      <td>จังหวัดสมุทรสาคร</td>\n",
       "    </tr>\n",
       "    <tr>\n",
       "      <th>5</th>\n",
       "      <td>InnHome โต๊ะทำงานปรับระดับได้ โต๊ะปรับระดับ โต...</td>\n",
       "      <td>฿2,590</td>\n",
       "      <td>ขายแล้ว 328 ชิ้น</td>\n",
       "      <td>จังหวัดกรุงเทพมหานคร</td>\n",
       "    </tr>\n",
       "    <tr>\n",
       "      <th>6</th>\n",
       "      <td>9Gadget - รับประกัน 1 ปี - โต๊ะปรับระดับไฟฟ้า ...</td>\n",
       "      <td>฿4,850 - ฿5,499</td>\n",
       "      <td>ขายแล้ว 212 ชิ้น</td>\n",
       "      <td>จังหวัดกรุงเทพมหานคร</td>\n",
       "    </tr>\n",
       "    <tr>\n",
       "      <th>7</th>\n",
       "      <td>[คืน 1000 c. ทักแชทรับโค้ด] Fennix Ergonomic D...</td>\n",
       "      <td>฿5,990 - ฿6,990</td>\n",
       "      <td>ขายแล้ว 16 ชิ้น</td>\n",
       "      <td>จังหวัดสมุทรสาคร</td>\n",
       "    </tr>\n",
       "    <tr>\n",
       "      <th>8</th>\n",
       "      <td>InnHome โต๊ะทำงานปรับระดับได้ โต๊ะปรับระดับ โต...</td>\n",
       "      <td>฿2,590</td>\n",
       "      <td>ขายแล้ว 343 ชิ้น</td>\n",
       "      <td>จังหวัดกรุงเทพมหานคร</td>\n",
       "    </tr>\n",
       "    <tr>\n",
       "      <th>9</th>\n",
       "      <td>MMY โต๊ะปรับระดับได้ มอเตอร์ โต๊ะปรับระดับไฟฟ้...</td>\n",
       "      <td>฿2,299 - ฿2,899</td>\n",
       "      <td>ขายแล้ว 251 ชิ้น</td>\n",
       "      <td>จังหวัดสมุทรปราการ</td>\n",
       "    </tr>\n",
       "  </tbody>\n",
       "</table>\n",
       "</div>"
      ],
      "text/plain": [
       "                                             product              price  \\\n",
       "0  [รับประกัน 5] Bewell โต๊ะปรับระดับไฟฟ้า มอเตอร...  ฿12,999 - ฿17,999   \n",
       "1  [ส่งฟรีทั่วไทย] โต๊ะปรับระดับไฟฟ้า DreamDesk S...            ฿13,850   \n",
       "2  Bewell Ergonomic Desk Single Motor โต๊ะทำงาน โ...   ฿9,999 - ฿11,999   \n",
       "3  [ส่งฟรีทั่วไทย] โต๊ะปรับระดับไฟฟ้า DreamDesk S...            ฿13,100   \n",
       "4  [ทักแชทรับโค้ด] Fennix Ergonomic Desk โต๊ะปรับ...    ฿5,990 - ฿7,390   \n",
       "5  InnHome โต๊ะทำงานปรับระดับได้ โต๊ะปรับระดับ โต...             ฿2,590   \n",
       "6  9Gadget - รับประกัน 1 ปี - โต๊ะปรับระดับไฟฟ้า ...    ฿4,850 - ฿5,499   \n",
       "7  [คืน 1000 c. ทักแชทรับโค้ด] Fennix Ergonomic D...    ฿5,990 - ฿6,990   \n",
       "8  InnHome โต๊ะทำงานปรับระดับได้ โต๊ะปรับระดับ โต...             ฿2,590   \n",
       "9  MMY โต๊ะปรับระดับได้ มอเตอร์ โต๊ะปรับระดับไฟฟ้...    ฿2,299 - ฿2,899   \n",
       "\n",
       "                 sales         location_shop  \n",
       "0  ขายแล้ว 1.5พัน ชิ้น  จังหวัดกรุงเทพมหานคร  \n",
       "1      ขายแล้ว 29 ชิ้น  จังหวัดกรุงเทพมหานคร  \n",
       "2     ขายแล้ว 161 ชิ้น  จังหวัดกรุงเทพมหานคร  \n",
       "3      ขายแล้ว 23 ชิ้น  จังหวัดกรุงเทพมหานคร  \n",
       "4      ขายแล้ว 19 ชิ้น      จังหวัดสมุทรสาคร  \n",
       "5     ขายแล้ว 328 ชิ้น  จังหวัดกรุงเทพมหานคร  \n",
       "6     ขายแล้ว 212 ชิ้น  จังหวัดกรุงเทพมหานคร  \n",
       "7      ขายแล้ว 16 ชิ้น      จังหวัดสมุทรสาคร  \n",
       "8     ขายแล้ว 343 ชิ้น  จังหวัดกรุงเทพมหานคร  \n",
       "9     ขายแล้ว 251 ชิ้น    จังหวัดสมุทรปราการ  "
      ]
     },
     "execution_count": 187,
     "metadata": {},
     "output_type": "execute_result"
    }
   ],
   "source": [
    "shopee_df = pd.DataFrame({\"product\":all_product_list, \"price\":all_price_list, \"sales\":all_sales_list, \"location_shop\":all_location_list})\n",
    "shopee_df.head(10)"
   ]
  },
  {
   "cell_type": "code",
   "execution_count": 185,
   "id": "ec28eae2",
   "metadata": {
    "scrolled": true
   },
   "outputs": [
    {
     "data": {
      "text/html": [
       "<div>\n",
       "<style scoped>\n",
       "    .dataframe tbody tr th:only-of-type {\n",
       "        vertical-align: middle;\n",
       "    }\n",
       "\n",
       "    .dataframe tbody tr th {\n",
       "        vertical-align: top;\n",
       "    }\n",
       "\n",
       "    .dataframe thead th {\n",
       "        text-align: right;\n",
       "    }\n",
       "</style>\n",
       "<table border=\"1\" class=\"dataframe\">\n",
       "  <thead>\n",
       "    <tr style=\"text-align: right;\">\n",
       "      <th></th>\n",
       "      <th>0</th>\n",
       "    </tr>\n",
       "  </thead>\n",
       "  <tbody>\n",
       "    <tr>\n",
       "      <th>0</th>\n",
       "      <td>กรุงเทพมหานคร</td>\n",
       "    </tr>\n",
       "    <tr>\n",
       "      <th>1</th>\n",
       "      <td>กรุงเทพมหานคร</td>\n",
       "    </tr>\n",
       "    <tr>\n",
       "      <th>2</th>\n",
       "      <td>กรุงเทพมหานคร</td>\n",
       "    </tr>\n",
       "    <tr>\n",
       "      <th>3</th>\n",
       "      <td>กรุงเทพมหานคร</td>\n",
       "    </tr>\n",
       "    <tr>\n",
       "      <th>4</th>\n",
       "      <td>สมุทรสาคร</td>\n",
       "    </tr>\n",
       "    <tr>\n",
       "      <th>5</th>\n",
       "      <td>กรุงเทพมหานคร</td>\n",
       "    </tr>\n",
       "    <tr>\n",
       "      <th>6</th>\n",
       "      <td>กรุงเทพมหานคร</td>\n",
       "    </tr>\n",
       "    <tr>\n",
       "      <th>7</th>\n",
       "      <td>สมุทรสาคร</td>\n",
       "    </tr>\n",
       "    <tr>\n",
       "      <th>8</th>\n",
       "      <td>กรุงเทพมหานคร</td>\n",
       "    </tr>\n",
       "    <tr>\n",
       "      <th>9</th>\n",
       "      <td>สมุทรปราการ</td>\n",
       "    </tr>\n",
       "  </tbody>\n",
       "</table>\n",
       "</div>"
      ],
      "text/plain": [
       "               0\n",
       "0  กรุงเทพมหานคร\n",
       "1  กรุงเทพมหานคร\n",
       "2  กรุงเทพมหานคร\n",
       "3  กรุงเทพมหานคร\n",
       "4      สมุทรสาคร\n",
       "5  กรุงเทพมหานคร\n",
       "6  กรุงเทพมหานคร\n",
       "7      สมุทรสาคร\n",
       "8  กรุงเทพมหานคร\n",
       "9    สมุทรปราการ"
      ]
     },
     "execution_count": 185,
     "metadata": {},
     "output_type": "execute_result"
    }
   ],
   "source": [
    "province = shopee_df.location_shop.str.split(\"จังหวัด\", expand = True)\n",
    "province.head(10)"
   ]
  },
  {
   "cell_type": "code",
   "execution_count": 186,
   "id": "642584bd",
   "metadata": {
    "scrolled": true
   },
   "outputs": [
    {
     "data": {
      "text/html": [
       "<div>\n",
       "<style scoped>\n",
       "    .dataframe tbody tr th:only-of-type {\n",
       "        vertical-align: middle;\n",
       "    }\n",
       "\n",
       "    .dataframe tbody tr th {\n",
       "        vertical-align: top;\n",
       "    }\n",
       "\n",
       "    .dataframe thead th {\n",
       "        text-align: right;\n",
       "    }\n",
       "</style>\n",
       "<table border=\"1\" class=\"dataframe\">\n",
       "  <thead>\n",
       "    <tr style=\"text-align: right;\">\n",
       "      <th></th>\n",
       "      <th>product</th>\n",
       "      <th>start_price</th>\n",
       "      <th>sales</th>\n",
       "      <th>location_shop</th>\n",
       "    </tr>\n",
       "  </thead>\n",
       "  <tbody>\n",
       "    <tr>\n",
       "      <th>0</th>\n",
       "      <td>[รับประกัน 5] Bewell โต๊ะปรับระดับไฟฟ้า มอเตอร...</td>\n",
       "      <td>12,999</td>\n",
       "      <td>ขายแล้ว 1.5พัน ชิ้น</td>\n",
       "      <td>กรุงเทพมหานคร</td>\n",
       "    </tr>\n",
       "    <tr>\n",
       "      <th>1</th>\n",
       "      <td>[ส่งฟรีทั่วไทย] โต๊ะปรับระดับไฟฟ้า DreamDesk S...</td>\n",
       "      <td>13,850</td>\n",
       "      <td>ขายแล้ว 29 ชิ้น</td>\n",
       "      <td>กรุงเทพมหานคร</td>\n",
       "    </tr>\n",
       "    <tr>\n",
       "      <th>2</th>\n",
       "      <td>Bewell Ergonomic Desk Single Motor โต๊ะทำงาน โ...</td>\n",
       "      <td>9,999</td>\n",
       "      <td>ขายแล้ว 161 ชิ้น</td>\n",
       "      <td>กรุงเทพมหานคร</td>\n",
       "    </tr>\n",
       "    <tr>\n",
       "      <th>3</th>\n",
       "      <td>[ส่งฟรีทั่วไทย] โต๊ะปรับระดับไฟฟ้า DreamDesk S...</td>\n",
       "      <td>13,100</td>\n",
       "      <td>ขายแล้ว 23 ชิ้น</td>\n",
       "      <td>กรุงเทพมหานคร</td>\n",
       "    </tr>\n",
       "    <tr>\n",
       "      <th>4</th>\n",
       "      <td>[ทักแชทรับโค้ด] Fennix Ergonomic Desk โต๊ะปรับ...</td>\n",
       "      <td>5,990</td>\n",
       "      <td>ขายแล้ว 19 ชิ้น</td>\n",
       "      <td>สมุทรสาคร</td>\n",
       "    </tr>\n",
       "    <tr>\n",
       "      <th>5</th>\n",
       "      <td>InnHome โต๊ะทำงานปรับระดับได้ โต๊ะปรับระดับ โต...</td>\n",
       "      <td>2,590</td>\n",
       "      <td>ขายแล้ว 328 ชิ้น</td>\n",
       "      <td>กรุงเทพมหานคร</td>\n",
       "    </tr>\n",
       "    <tr>\n",
       "      <th>6</th>\n",
       "      <td>9Gadget - รับประกัน 1 ปี - โต๊ะปรับระดับไฟฟ้า ...</td>\n",
       "      <td>4,850</td>\n",
       "      <td>ขายแล้ว 212 ชิ้น</td>\n",
       "      <td>กรุงเทพมหานคร</td>\n",
       "    </tr>\n",
       "    <tr>\n",
       "      <th>7</th>\n",
       "      <td>[คืน 1000 c. ทักแชทรับโค้ด] Fennix Ergonomic D...</td>\n",
       "      <td>5,990</td>\n",
       "      <td>ขายแล้ว 16 ชิ้น</td>\n",
       "      <td>สมุทรสาคร</td>\n",
       "    </tr>\n",
       "    <tr>\n",
       "      <th>8</th>\n",
       "      <td>InnHome โต๊ะทำงานปรับระดับได้ โต๊ะปรับระดับ โต...</td>\n",
       "      <td>2,590</td>\n",
       "      <td>ขายแล้ว 343 ชิ้น</td>\n",
       "      <td>กรุงเทพมหานคร</td>\n",
       "    </tr>\n",
       "    <tr>\n",
       "      <th>9</th>\n",
       "      <td>MMY โต๊ะปรับระดับได้ มอเตอร์ โต๊ะปรับระดับไฟฟ้...</td>\n",
       "      <td>2,299</td>\n",
       "      <td>ขายแล้ว 251 ชิ้น</td>\n",
       "      <td>สมุทรปราการ</td>\n",
       "    </tr>\n",
       "  </tbody>\n",
       "</table>\n",
       "</div>"
      ],
      "text/plain": [
       "                                             product start_price  \\\n",
       "0  [รับประกัน 5] Bewell โต๊ะปรับระดับไฟฟ้า มอเตอร...      12,999   \n",
       "1  [ส่งฟรีทั่วไทย] โต๊ะปรับระดับไฟฟ้า DreamDesk S...      13,850   \n",
       "2  Bewell Ergonomic Desk Single Motor โต๊ะทำงาน โ...       9,999   \n",
       "3  [ส่งฟรีทั่วไทย] โต๊ะปรับระดับไฟฟ้า DreamDesk S...      13,100   \n",
       "4  [ทักแชทรับโค้ด] Fennix Ergonomic Desk โต๊ะปรับ...       5,990   \n",
       "5  InnHome โต๊ะทำงานปรับระดับได้ โต๊ะปรับระดับ โต...       2,590   \n",
       "6  9Gadget - รับประกัน 1 ปี - โต๊ะปรับระดับไฟฟ้า ...       4,850   \n",
       "7  [คืน 1000 c. ทักแชทรับโค้ด] Fennix Ergonomic D...       5,990   \n",
       "8  InnHome โต๊ะทำงานปรับระดับได้ โต๊ะปรับระดับ โต...       2,590   \n",
       "9  MMY โต๊ะปรับระดับได้ มอเตอร์ โต๊ะปรับระดับไฟฟ้...       2,299   \n",
       "\n",
       "                 sales  location_shop  \n",
       "0  ขายแล้ว 1.5พัน ชิ้น  กรุงเทพมหานคร  \n",
       "1      ขายแล้ว 29 ชิ้น  กรุงเทพมหานคร  \n",
       "2     ขายแล้ว 161 ชิ้น  กรุงเทพมหานคร  \n",
       "3      ขายแล้ว 23 ชิ้น  กรุงเทพมหานคร  \n",
       "4      ขายแล้ว 19 ชิ้น      สมุทรสาคร  \n",
       "5     ขายแล้ว 328 ชิ้น  กรุงเทพมหานคร  \n",
       "6     ขายแล้ว 212 ชิ้น  กรุงเทพมหานคร  \n",
       "7      ขายแล้ว 16 ชิ้น      สมุทรสาคร  \n",
       "8     ขายแล้ว 343 ชิ้น  กรุงเทพมหานคร  \n",
       "9     ขายแล้ว 251 ชิ้น    สมุทรปราการ  "
      ]
     },
     "execution_count": 186,
     "metadata": {},
     "output_type": "execute_result"
    }
   ],
   "source": [
    "shopee_df[\"location_shop\"] = province\n",
    "shopee_df.head(10)"
   ]
  },
  {
   "cell_type": "code",
   "execution_count": 183,
   "id": "c9c04675",
   "metadata": {
    "scrolled": true
   },
   "outputs": [],
   "source": [
    "start_price = shopee_df.price.str.partition()[0].str.rpartition(\"฿\")[2]"
   ]
  },
  {
   "cell_type": "code",
   "execution_count": 184,
   "id": "bb5e6ca4",
   "metadata": {
    "scrolled": true
   },
   "outputs": [
    {
     "data": {
      "text/html": [
       "<div>\n",
       "<style scoped>\n",
       "    .dataframe tbody tr th:only-of-type {\n",
       "        vertical-align: middle;\n",
       "    }\n",
       "\n",
       "    .dataframe tbody tr th {\n",
       "        vertical-align: top;\n",
       "    }\n",
       "\n",
       "    .dataframe thead th {\n",
       "        text-align: right;\n",
       "    }\n",
       "</style>\n",
       "<table border=\"1\" class=\"dataframe\">\n",
       "  <thead>\n",
       "    <tr style=\"text-align: right;\">\n",
       "      <th></th>\n",
       "      <th>product</th>\n",
       "      <th>start_price</th>\n",
       "      <th>sales</th>\n",
       "      <th>location_shop</th>\n",
       "    </tr>\n",
       "  </thead>\n",
       "  <tbody>\n",
       "    <tr>\n",
       "      <th>0</th>\n",
       "      <td>[รับประกัน 5] Bewell โต๊ะปรับระดับไฟฟ้า มอเตอร...</td>\n",
       "      <td>12,999</td>\n",
       "      <td>ขายแล้ว 1.5พัน ชิ้น</td>\n",
       "      <td>กรุงเทพมหานคร</td>\n",
       "    </tr>\n",
       "    <tr>\n",
       "      <th>1</th>\n",
       "      <td>[ส่งฟรีทั่วไทย] โต๊ะปรับระดับไฟฟ้า DreamDesk S...</td>\n",
       "      <td>13,850</td>\n",
       "      <td>ขายแล้ว 29 ชิ้น</td>\n",
       "      <td>กรุงเทพมหานคร</td>\n",
       "    </tr>\n",
       "    <tr>\n",
       "      <th>2</th>\n",
       "      <td>Bewell Ergonomic Desk Single Motor โต๊ะทำงาน โ...</td>\n",
       "      <td>9,999</td>\n",
       "      <td>ขายแล้ว 161 ชิ้น</td>\n",
       "      <td>กรุงเทพมหานคร</td>\n",
       "    </tr>\n",
       "    <tr>\n",
       "      <th>3</th>\n",
       "      <td>[ส่งฟรีทั่วไทย] โต๊ะปรับระดับไฟฟ้า DreamDesk S...</td>\n",
       "      <td>13,100</td>\n",
       "      <td>ขายแล้ว 23 ชิ้น</td>\n",
       "      <td>กรุงเทพมหานคร</td>\n",
       "    </tr>\n",
       "    <tr>\n",
       "      <th>4</th>\n",
       "      <td>[ทักแชทรับโค้ด] Fennix Ergonomic Desk โต๊ะปรับ...</td>\n",
       "      <td>5,990</td>\n",
       "      <td>ขายแล้ว 19 ชิ้น</td>\n",
       "      <td>สมุทรสาคร</td>\n",
       "    </tr>\n",
       "    <tr>\n",
       "      <th>5</th>\n",
       "      <td>InnHome โต๊ะทำงานปรับระดับได้ โต๊ะปรับระดับ โต...</td>\n",
       "      <td>2,590</td>\n",
       "      <td>ขายแล้ว 328 ชิ้น</td>\n",
       "      <td>กรุงเทพมหานคร</td>\n",
       "    </tr>\n",
       "    <tr>\n",
       "      <th>6</th>\n",
       "      <td>9Gadget - รับประกัน 1 ปี - โต๊ะปรับระดับไฟฟ้า ...</td>\n",
       "      <td>4,850</td>\n",
       "      <td>ขายแล้ว 212 ชิ้น</td>\n",
       "      <td>กรุงเทพมหานคร</td>\n",
       "    </tr>\n",
       "    <tr>\n",
       "      <th>7</th>\n",
       "      <td>[คืน 1000 c. ทักแชทรับโค้ด] Fennix Ergonomic D...</td>\n",
       "      <td>5,990</td>\n",
       "      <td>ขายแล้ว 16 ชิ้น</td>\n",
       "      <td>สมุทรสาคร</td>\n",
       "    </tr>\n",
       "    <tr>\n",
       "      <th>8</th>\n",
       "      <td>InnHome โต๊ะทำงานปรับระดับได้ โต๊ะปรับระดับ โต...</td>\n",
       "      <td>2,590</td>\n",
       "      <td>ขายแล้ว 343 ชิ้น</td>\n",
       "      <td>กรุงเทพมหานคร</td>\n",
       "    </tr>\n",
       "    <tr>\n",
       "      <th>9</th>\n",
       "      <td>MMY โต๊ะปรับระดับได้ มอเตอร์ โต๊ะปรับระดับไฟฟ้...</td>\n",
       "      <td>2,299</td>\n",
       "      <td>ขายแล้ว 251 ชิ้น</td>\n",
       "      <td>สมุทรปราการ</td>\n",
       "    </tr>\n",
       "  </tbody>\n",
       "</table>\n",
       "</div>"
      ],
      "text/plain": [
       "                                             product start_price  \\\n",
       "0  [รับประกัน 5] Bewell โต๊ะปรับระดับไฟฟ้า มอเตอร...      12,999   \n",
       "1  [ส่งฟรีทั่วไทย] โต๊ะปรับระดับไฟฟ้า DreamDesk S...      13,850   \n",
       "2  Bewell Ergonomic Desk Single Motor โต๊ะทำงาน โ...       9,999   \n",
       "3  [ส่งฟรีทั่วไทย] โต๊ะปรับระดับไฟฟ้า DreamDesk S...      13,100   \n",
       "4  [ทักแชทรับโค้ด] Fennix Ergonomic Desk โต๊ะปรับ...       5,990   \n",
       "5  InnHome โต๊ะทำงานปรับระดับได้ โต๊ะปรับระดับ โต...       2,590   \n",
       "6  9Gadget - รับประกัน 1 ปี - โต๊ะปรับระดับไฟฟ้า ...       4,850   \n",
       "7  [คืน 1000 c. ทักแชทรับโค้ด] Fennix Ergonomic D...       5,990   \n",
       "8  InnHome โต๊ะทำงานปรับระดับได้ โต๊ะปรับระดับ โต...       2,590   \n",
       "9  MMY โต๊ะปรับระดับได้ มอเตอร์ โต๊ะปรับระดับไฟฟ้...       2,299   \n",
       "\n",
       "                 sales  location_shop  \n",
       "0  ขายแล้ว 1.5พัน ชิ้น  กรุงเทพมหานคร  \n",
       "1      ขายแล้ว 29 ชิ้น  กรุงเทพมหานคร  \n",
       "2     ขายแล้ว 161 ชิ้น  กรุงเทพมหานคร  \n",
       "3      ขายแล้ว 23 ชิ้น  กรุงเทพมหานคร  \n",
       "4      ขายแล้ว 19 ชิ้น      สมุทรสาคร  \n",
       "5     ขายแล้ว 328 ชิ้น  กรุงเทพมหานคร  \n",
       "6     ขายแล้ว 212 ชิ้น  กรุงเทพมหานคร  \n",
       "7      ขายแล้ว 16 ชิ้น      สมุทรสาคร  \n",
       "8     ขายแล้ว 343 ชิ้น  กรุงเทพมหานคร  \n",
       "9     ขายแล้ว 251 ชิ้น    สมุทรปราการ  "
      ]
     },
     "execution_count": 184,
     "metadata": {},
     "output_type": "execute_result"
    }
   ],
   "source": [
    "shopee_df[\"price\"] = start_price\n",
    "shopee_df.rename(columns = {\"price\":\"start_price\"},inplace = True)\n",
    "shopee_df.head(10)"
   ]
  },
  {
   "cell_type": "code",
   "execution_count": 144,
   "id": "52bc737e",
   "metadata": {
    "scrolled": true
   },
   "outputs": [],
   "source": [
    "sales = shopee_df[\"sales\"].str.partition(\" \")[2].str.partition()[0].replace(\"\", 0)"
   ]
  },
  {
   "cell_type": "code",
   "execution_count": 145,
   "id": "584becf3",
   "metadata": {
    "scrolled": true
   },
   "outputs": [],
   "source": [
    "shopee_df[\"sales\"] = sales"
   ]
  },
  {
   "cell_type": "code",
   "execution_count": 148,
   "id": "d2b6efd2",
   "metadata": {
    "scrolled": true
   },
   "outputs": [
    {
     "data": {
      "text/html": [
       "<div>\n",
       "<style scoped>\n",
       "    .dataframe tbody tr th:only-of-type {\n",
       "        vertical-align: middle;\n",
       "    }\n",
       "\n",
       "    .dataframe tbody tr th {\n",
       "        vertical-align: top;\n",
       "    }\n",
       "\n",
       "    .dataframe thead th {\n",
       "        text-align: right;\n",
       "    }\n",
       "</style>\n",
       "<table border=\"1\" class=\"dataframe\">\n",
       "  <thead>\n",
       "    <tr style=\"text-align: right;\">\n",
       "      <th></th>\n",
       "      <th>product</th>\n",
       "      <th>start_price</th>\n",
       "      <th>sales</th>\n",
       "      <th>location_shop</th>\n",
       "    </tr>\n",
       "  </thead>\n",
       "  <tbody>\n",
       "    <tr>\n",
       "      <th>0</th>\n",
       "      <td>[รับประกัน 5] Bewell โต๊ะปรับระดับไฟฟ้า มอเตอร...</td>\n",
       "      <td>12,999</td>\n",
       "      <td>1.5พัน</td>\n",
       "      <td>กรุงเทพมหานคร</td>\n",
       "    </tr>\n",
       "    <tr>\n",
       "      <th>1</th>\n",
       "      <td>[ส่งฟรีทั่วไทย] โต๊ะปรับระดับไฟฟ้า DreamDesk S...</td>\n",
       "      <td>13,850</td>\n",
       "      <td>29</td>\n",
       "      <td>กรุงเทพมหานคร</td>\n",
       "    </tr>\n",
       "    <tr>\n",
       "      <th>2</th>\n",
       "      <td>Bewell Ergonomic Desk Single Motor โต๊ะทำงาน โ...</td>\n",
       "      <td>9,999</td>\n",
       "      <td>161</td>\n",
       "      <td>กรุงเทพมหานคร</td>\n",
       "    </tr>\n",
       "    <tr>\n",
       "      <th>3</th>\n",
       "      <td>[ส่งฟรีทั่วไทย] โต๊ะปรับระดับไฟฟ้า DreamDesk S...</td>\n",
       "      <td>13,100</td>\n",
       "      <td>23</td>\n",
       "      <td>กรุงเทพมหานคร</td>\n",
       "    </tr>\n",
       "    <tr>\n",
       "      <th>4</th>\n",
       "      <td>[ทักแชทรับโค้ด] Fennix Ergonomic Desk โต๊ะปรับ...</td>\n",
       "      <td>5,990</td>\n",
       "      <td>19</td>\n",
       "      <td>สมุทรสาคร</td>\n",
       "    </tr>\n",
       "    <tr>\n",
       "      <th>5</th>\n",
       "      <td>InnHome โต๊ะทำงานปรับระดับได้ โต๊ะปรับระดับ โต...</td>\n",
       "      <td>2,590</td>\n",
       "      <td>328</td>\n",
       "      <td>กรุงเทพมหานคร</td>\n",
       "    </tr>\n",
       "    <tr>\n",
       "      <th>6</th>\n",
       "      <td>9Gadget - รับประกัน 1 ปี - โต๊ะปรับระดับไฟฟ้า ...</td>\n",
       "      <td>4,850</td>\n",
       "      <td>212</td>\n",
       "      <td>กรุงเทพมหานคร</td>\n",
       "    </tr>\n",
       "    <tr>\n",
       "      <th>7</th>\n",
       "      <td>[คืน 1000 c. ทักแชทรับโค้ด] Fennix Ergonomic D...</td>\n",
       "      <td>5,990</td>\n",
       "      <td>16</td>\n",
       "      <td>สมุทรสาคร</td>\n",
       "    </tr>\n",
       "    <tr>\n",
       "      <th>8</th>\n",
       "      <td>InnHome โต๊ะทำงานปรับระดับได้ โต๊ะปรับระดับ โต...</td>\n",
       "      <td>2,590</td>\n",
       "      <td>343</td>\n",
       "      <td>กรุงเทพมหานคร</td>\n",
       "    </tr>\n",
       "    <tr>\n",
       "      <th>9</th>\n",
       "      <td>MMY โต๊ะปรับระดับได้ มอเตอร์ โต๊ะปรับระดับไฟฟ้...</td>\n",
       "      <td>2,299</td>\n",
       "      <td>251</td>\n",
       "      <td>สมุทรปราการ</td>\n",
       "    </tr>\n",
       "    <tr>\n",
       "      <th>10</th>\n",
       "      <td>ขาโต๊ะปรับระดับด้วยไฟฟ้าแบบ 3 ส่วน 2 มอเตอร์ (...</td>\n",
       "      <td>8,850</td>\n",
       "      <td>181</td>\n",
       "      <td>สมุทรสาคร</td>\n",
       "    </tr>\n",
       "    <tr>\n",
       "      <th>11</th>\n",
       "      <td>Neolution E-Sport Gaming Desk  รุ่น E-Gaming โ...</td>\n",
       "      <td>6,990</td>\n",
       "      <td>228</td>\n",
       "      <td>กรุงเทพมหานคร</td>\n",
       "    </tr>\n",
       "    <tr>\n",
       "      <th>12</th>\n",
       "      <td>Neolution E-Sport Gaming Desk  รุ่น E4WORK โต๊...</td>\n",
       "      <td>7,390</td>\n",
       "      <td>157</td>\n",
       "      <td>กรุงเทพมหานคร</td>\n",
       "    </tr>\n",
       "    <tr>\n",
       "      <th>13</th>\n",
       "      <td>MLIFE - โต๊ะปรับระดับไฟฟ้า โต๊ะเกมมิ่ง โต๊ะคอม...</td>\n",
       "      <td>4,900</td>\n",
       "      <td>78</td>\n",
       "      <td>กรุงเทพมหานคร</td>\n",
       "    </tr>\n",
       "    <tr>\n",
       "      <th>14</th>\n",
       "      <td>NEW - โต๊ะเกมมิ่ง โต๊ะคอมพิวเตอร์ กว้าง 160cm ...</td>\n",
       "      <td>3,250</td>\n",
       "      <td>556</td>\n",
       "      <td>กรุงเทพมหานคร</td>\n",
       "    </tr>\n",
       "    <tr>\n",
       "      <th>15</th>\n",
       "      <td>[ใส่LQXJD ลด 350.-]Neolution E-Sport Gaming De...</td>\n",
       "      <td>7,290</td>\n",
       "      <td>186</td>\n",
       "      <td>กรุงเทพมหานคร</td>\n",
       "    </tr>\n",
       "    <tr>\n",
       "      <th>16</th>\n",
       "      <td>Elife โต๊ะปรับระดับ โต๊ะทำงาน Ergonomic desk โ...</td>\n",
       "      <td>8,990</td>\n",
       "      <td>94</td>\n",
       "      <td>สมุทรปราการ</td>\n",
       "    </tr>\n",
       "    <tr>\n",
       "      <th>17</th>\n",
       "      <td>ส่วนลด Code CHAY100 พร้อมส่ง รุ่น 2 มอเตอร์ ขา...</td>\n",
       "      <td>7,190</td>\n",
       "      <td>134</td>\n",
       "      <td>สมุทรปราการ</td>\n",
       "    </tr>\n",
       "    <tr>\n",
       "      <th>18</th>\n",
       "      <td>MOUNTAIN โต๊ะปรับระดับเพื่อสุขภาพ โต๊ะปรับระดั...</td>\n",
       "      <td>5,999</td>\n",
       "      <td>4</td>\n",
       "      <td>ชลบุรี</td>\n",
       "    </tr>\n",
       "    <tr>\n",
       "      <th>19</th>\n",
       "      <td>โต๊ะเกมมิ่ง GAMING DESK EGA TYPE GD7 BLACK วาง...</td>\n",
       "      <td>6,090</td>\n",
       "      <td>171</td>\n",
       "      <td>กรุงเทพมหานคร</td>\n",
       "    </tr>\n",
       "  </tbody>\n",
       "</table>\n",
       "</div>"
      ],
      "text/plain": [
       "                                              product start_price   sales  \\\n",
       "0   [รับประกัน 5] Bewell โต๊ะปรับระดับไฟฟ้า มอเตอร...      12,999  1.5พัน   \n",
       "1   [ส่งฟรีทั่วไทย] โต๊ะปรับระดับไฟฟ้า DreamDesk S...      13,850      29   \n",
       "2   Bewell Ergonomic Desk Single Motor โต๊ะทำงาน โ...       9,999     161   \n",
       "3   [ส่งฟรีทั่วไทย] โต๊ะปรับระดับไฟฟ้า DreamDesk S...      13,100      23   \n",
       "4   [ทักแชทรับโค้ด] Fennix Ergonomic Desk โต๊ะปรับ...       5,990      19   \n",
       "5   InnHome โต๊ะทำงานปรับระดับได้ โต๊ะปรับระดับ โต...       2,590     328   \n",
       "6   9Gadget - รับประกัน 1 ปี - โต๊ะปรับระดับไฟฟ้า ...       4,850     212   \n",
       "7   [คืน 1000 c. ทักแชทรับโค้ด] Fennix Ergonomic D...       5,990      16   \n",
       "8   InnHome โต๊ะทำงานปรับระดับได้ โต๊ะปรับระดับ โต...       2,590     343   \n",
       "9   MMY โต๊ะปรับระดับได้ มอเตอร์ โต๊ะปรับระดับไฟฟ้...       2,299     251   \n",
       "10  ขาโต๊ะปรับระดับด้วยไฟฟ้าแบบ 3 ส่วน 2 มอเตอร์ (...       8,850     181   \n",
       "11  Neolution E-Sport Gaming Desk  รุ่น E-Gaming โ...       6,990     228   \n",
       "12  Neolution E-Sport Gaming Desk  รุ่น E4WORK โต๊...       7,390     157   \n",
       "13  MLIFE - โต๊ะปรับระดับไฟฟ้า โต๊ะเกมมิ่ง โต๊ะคอม...       4,900      78   \n",
       "14  NEW - โต๊ะเกมมิ่ง โต๊ะคอมพิวเตอร์ กว้าง 160cm ...       3,250     556   \n",
       "15  [ใส่LQXJD ลด 350.-]Neolution E-Sport Gaming De...       7,290     186   \n",
       "16  Elife โต๊ะปรับระดับ โต๊ะทำงาน Ergonomic desk โ...       8,990      94   \n",
       "17  ส่วนลด Code CHAY100 พร้อมส่ง รุ่น 2 มอเตอร์ ขา...       7,190     134   \n",
       "18  MOUNTAIN โต๊ะปรับระดับเพื่อสุขภาพ โต๊ะปรับระดั...       5,999       4   \n",
       "19  โต๊ะเกมมิ่ง GAMING DESK EGA TYPE GD7 BLACK วาง...       6,090     171   \n",
       "\n",
       "    location_shop  \n",
       "0   กรุงเทพมหานคร  \n",
       "1   กรุงเทพมหานคร  \n",
       "2   กรุงเทพมหานคร  \n",
       "3   กรุงเทพมหานคร  \n",
       "4       สมุทรสาคร  \n",
       "5   กรุงเทพมหานคร  \n",
       "6   กรุงเทพมหานคร  \n",
       "7       สมุทรสาคร  \n",
       "8   กรุงเทพมหานคร  \n",
       "9     สมุทรปราการ  \n",
       "10      สมุทรสาคร  \n",
       "11  กรุงเทพมหานคร  \n",
       "12  กรุงเทพมหานคร  \n",
       "13  กรุงเทพมหานคร  \n",
       "14  กรุงเทพมหานคร  \n",
       "15  กรุงเทพมหานคร  \n",
       "16    สมุทรปราการ  \n",
       "17    สมุทรปราการ  \n",
       "18         ชลบุรี  \n",
       "19  กรุงเทพมหานคร  "
      ]
     },
     "execution_count": 148,
     "metadata": {},
     "output_type": "execute_result"
    }
   ],
   "source": [
    "shopee_df.head(20)"
   ]
  },
  {
   "cell_type": "code",
   "execution_count": 147,
   "id": "9e1e615c",
   "metadata": {},
   "outputs": [],
   "source": [
    "shopee_df.to_excel(\"shopee_elect_table.xlsx\")"
   ]
  }
 ],
 "metadata": {
  "kernelspec": {
   "display_name": "Python 3 (ipykernel)",
   "language": "python",
   "name": "python3"
  },
  "language_info": {
   "codemirror_mode": {
    "name": "ipython",
    "version": 3
   },
   "file_extension": ".py",
   "mimetype": "text/x-python",
   "name": "python",
   "nbconvert_exporter": "python",
   "pygments_lexer": "ipython3",
   "version": "3.9.13"
  }
 },
 "nbformat": 4,
 "nbformat_minor": 5
}
